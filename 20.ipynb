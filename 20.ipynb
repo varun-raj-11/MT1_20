{
 "cells": [
  {
   "cell_type": "code",
   "execution_count": 2,
   "id": "eebe66f9",
   "metadata": {},
   "outputs": [
    {
     "name": "stdout",
     "output_type": "stream",
     "text": [
      "P-value: 0.09434977284243756\n"
     ]
    }
   ],
   "source": [
    "'''20. Write a function called ‘perform_hypothesis_test’ that takes two lists of numbers as input, representing two samples. The function should perform a two-sample t-test and return the p-value. Use the ‘scipy.stats’ module in Python to calculate the t-test and p-value.'''\n",
    "\n",
    "from scipy import stats\n",
    "\n",
    "def perform_hypothesis_test(sample1, sample2):\n",
    "    t_statistic, p_value = stats.ttest_ind(sample1, sample2)\n",
    "    return p_value\n",
    "\n",
    "sample1 = [5, 10, 15, 20, 25]\n",
    "sample2 = [10, 20, 30, 40, 50]\n",
    "p_value = perform_hypothesis_test(sample1, sample2)\n",
    "print(\"P-value:\", p_value)\n"
   ]
  },
  {
   "cell_type": "code",
   "execution_count": null,
   "id": "501a4623",
   "metadata": {},
   "outputs": [],
   "source": []
  }
 ],
 "metadata": {
  "kernelspec": {
   "display_name": "Python 3 (ipykernel)",
   "language": "python",
   "name": "python3"
  },
  "language_info": {
   "codemirror_mode": {
    "name": "ipython",
    "version": 3
   },
   "file_extension": ".py",
   "mimetype": "text/x-python",
   "name": "python",
   "nbconvert_exporter": "python",
   "pygments_lexer": "ipython3",
   "version": "3.9.13"
  }
 },
 "nbformat": 4,
 "nbformat_minor": 5
}
